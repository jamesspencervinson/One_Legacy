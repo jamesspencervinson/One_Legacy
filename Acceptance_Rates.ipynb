{
 "cells": [
  {
   "cell_type": "code",
   "execution_count": 4,
   "metadata": {},
   "outputs": [],
   "source": [
    "import pandas as pd\n",
    "import numpy as np\n",
    "import numpy.core.defchararray as npd\n",
    "pd.set_option('display.max_column',None)\n",
    "pd.set_option('display.max_rows',None)\n",
    "pd.set_option('display.max_colwidth',1000000)\n",
    "\n",
    "organ_offers = pd.read_csv(\"/Users/johnwang/OneLegacy/Data/data-csv/organoffers.csv\", low_memory = False)\n"
   ]
  },
  {
   "cell_type": "code",
   "execution_count": 5,
   "metadata": {},
   "outputs": [],
   "source": [
    "#organs that aren't kidneys\n",
    "not_k = organ_offers.loc[~(organ_offers.match_organ.isin(['KI', 'KP'])), :]\n",
    "start = not_k.loc[:, [\"donor_id\", \"datetime_match_run\"]]\n",
    "test1 = start.groupby(\"donor_id\").agg(\"min\")\n",
    "not_k = not_k.merge(test1, how = \"left\", on = \"donor_id\")"
   ]
  },
  {
   "cell_type": "code",
   "execution_count": 6,
   "metadata": {},
   "outputs": [],
   "source": [
    "not_k['time_2'] = np.floor((pd.to_datetime(not_k['initial_response_datetime']) - pd.to_datetime(not_k['datetime_match_run_x'])).dt.total_seconds()/(3600*5)).astype(int)\n",
    "not_k['time'] = np.floor((pd.to_datetime(not_k['initial_response_datetime']) - pd.to_datetime(not_k['datetime_match_run_y'])).dt.total_seconds()/(5*3600)).astype(int)"
   ]
  },
  {
   "cell_type": "code",
   "execution_count": 7,
   "metadata": {},
   "outputs": [],
   "source": [
    "hearts = not_k.loc[not_k.match_organ.isin(['HL', 'HR']), :]\n",
    "lungs = not_k.loc[not_k.match_organ == 'LU', :]\n",
    "livers = not_k.loc[not_k.match_organ == 'LI', :]"
   ]
  },
  {
   "cell_type": "code",
   "execution_count": 8,
   "metadata": {},
   "outputs": [],
   "source": [
    "def get_acceptances(a, string):\n",
    "    a_times = a.groupby(string)\n",
    "    max_t = np.max(a[string])\n",
    "    ratios = []\n",
    "    for i in range(max_t):\n",
    "        if (i in a[string].unique()):\n",
    "            group = a_times.get_group(i)\n",
    "            acceptances = np.sum(group['offer_accepted']=='Y')\n",
    "            ratios.append([i, acceptances / len(group)])\n",
    "    return np.array(ratios)\n",
    "        \n",
    "heart_ratios_1 = get_acceptances(hearts, 'time')\n",
    "lung_ratios_1 = get_acceptances(lungs, 'time')\n",
    "liver_ratios_1 = get_acceptances(livers, 'time')\n",
    "heart_ratios_2 = get_acceptances(hearts, 'time_2')\n",
    "lung_ratios_2 = get_acceptances(lungs, 'time_2')\n",
    "liver_ratios_2 = get_acceptances(livers, 'time_2')\n"
   ]
  },
  {
   "cell_type": "code",
   "execution_count": 9,
   "metadata": {},
   "outputs": [
    {
     "data": {
      "text/plain": [
       "<Figure size 640x480 with 1 Axes>"
      ]
     },
     "metadata": {},
     "output_type": "display_data"
    },
    {
     "data": {
      "text/plain": [
       "<Figure size 640x480 with 1 Axes>"
      ]
     },
     "metadata": {},
     "output_type": "display_data"
    },
    {
     "data": {
      "text/plain": [
       "<Figure size 640x480 with 1 Axes>"
      ]
     },
     "metadata": {},
     "output_type": "display_data"
    }
   ],
   "source": [
    "import matplotlib.pyplot as plt\n",
    "\n",
    "plt.plot(heart_ratios_2[:,0], heart_ratios_2[:, 1])\n",
    "plt.show()\n",
    "plt.plot(lung_ratios_2[:,0], lung_ratios_2[:, 1])\n",
    "plt.show()\n",
    "plt.plot(liver_ratios_2[:,0], liver_ratios_2[:, 1])\n",
    "plt.show()"
   ]
  },
  {
   "cell_type": "code",
   "execution_count": 11,
   "metadata": {},
   "outputs": [],
   "source": [
    "def log_loss(data, times, a, b):\n",
    "    probs = np.exp(a + b*times) / (1 + np.exp(a + b*times))\n",
    "    logloss = np.sum(-np.log(probs)*data - (1 - data)*np.log(1 - probs))\n",
    "    return logloss\n"
   ]
  },
  {
   "cell_type": "code",
   "execution_count": 21,
   "metadata": {},
   "outputs": [
    {
     "name": "stdout",
     "output_type": "stream",
     "text": [
      "105\n",
      "83\n",
      "175\n"
     ]
    }
   ],
   "source": [
    "#HEARTS SET-UP\n",
    "hearts_yi = yi_data.loc[yi_data.HR_available == 1, :]\n",
    "hearts_yi = hearts_yi.reset_index()\n",
    "flag = [True]\n",
    "for i in range(1, len(hearts_yi)):\n",
    "    if(hearts_yi.loc[i, 'HR_allocated']==0 or hearts_yi.loc[i, 'donor_index'] != hearts_yi.loc[i-1, 'donor_index'] or hearts_yi.loc[i, 'HR_allocated'] > hearts_yi.loc[i-1, 'HR_allocated']):\n",
    "        flag.append(True)\n",
    "    else:\n",
    "        flag.append(False)\n",
    "hearts_yi = hearts_yi.loc[flag, :]\n",
    "hearts_yi = hearts_yi.reset_index()\n",
    "\n",
    "#LUNGS SET-UP\n",
    "lungs_yi = yi_data.loc[yi_data.LU_available > 0, :]\n",
    "lungs_yi = lungs_yi.reset_index()\n",
    "flag = [True]\n",
    "for i in range(1, len(lungs_yi)):\n",
    "    if(lungs_yi.loc[i, 'LU_allocated']<lungs_yi.loc[i, 'LU_available'] or lungs_yi.loc[i, 'donor_index'] != lungs_yi.loc[i-1, 'donor_index'] or lungs_yi.loc[i, 'LU_allocated'] > lungs_yi.loc[i-1, 'LU_allocated']):\n",
    "        flag.append(True)\n",
    "    else:\n",
    "        flag.append(False)\n",
    "lungs_yi = lungs_yi.loc[flag, :]\n",
    "lungs_yi = lungs_yi.reset_index()\n",
    "\n",
    "\n",
    "#LIVERS SET-UP\n",
    "livers_yi = yi_data.loc[yi_data.LI_available == 1, :]\n",
    "livers_yi = livers_yi.reset_index()\n",
    "flag = [True]\n",
    "for i in range(1, len(livers_yi)):\n",
    "    if(livers_yi.loc[i, 'LI_allocated']==0 or livers_yi.loc[i, 'donor_index'] != livers_yi.loc[i-1, 'donor_index'] or livers_yi.loc[i, 'LI_allocated'] > livers_yi.loc[i-1, 'LI_allocated']):\n",
    "        flag.append(True)\n",
    "    else:\n",
    "        flag.append(False)\n",
    "livers_yi = livers_yi.loc[flag, :]\n",
    "livers_yi = livers_yi.reset_index()\n",
    "\n",
    "\n",
    "#HEARTS\n",
    "hr_alloc = [0]\n",
    "for i in range(1, hearts_yi.shape[0]):\n",
    "    if (hearts_yi.loc[i, 'HR_allocated'] == 1):\n",
    "        hr_alloc.append(1)\n",
    "    else:\n",
    "        hr_alloc.append(0)\n",
    "hr_alloc = np.array(hr_alloc)\n",
    "print(np.sum(hr_alloc))\n",
    "hr_times = np.array(hearts_yi['time_in_minutes']/60)\n",
    "\n",
    "def hr_log_loss(x0):\n",
    "    return log_loss(hr_alloc, hr_times, x0[0], x0[1])\n",
    "\n",
    "#LUNGS\n",
    "lu_alloc = [0]\n",
    "for i in range(1, lungs_yi.shape[0]):\n",
    "    if (lungs_yi.loc[i-1, 'LU_allocated'] < lungs_yi.loc[i, 'LU_allocated']):\n",
    "        lu_alloc.append(1)\n",
    "    else:\n",
    "        lu_alloc.append(0)\n",
    "lu_alloc = np.array(lu_alloc)\n",
    "print(np.sum(lu_alloc))\n",
    "lu_times = np.array(lungs_yi['time_in_minutes']/60)\n",
    "\n",
    "\n",
    "def lu_log_loss(x0):\n",
    "    return log_loss(lu_alloc, lu_times, x0[0], x0[1])\n",
    "\n",
    "\n",
    "#LIVERS\n",
    "li_alloc = [0]\n",
    "for i in range(1, livers_yi.shape[0]):\n",
    "    if (livers_yi.loc[i, 'LI_allocated'] == 1):\n",
    "        li_alloc.append(1)\n",
    "    else:\n",
    "        li_alloc.append(0)\n",
    "li_alloc = np.array(li_alloc)\n",
    "print(np.sum(li_alloc))\n",
    "li_times = np.array(livers_yi['time_in_minutes']/60)\n",
    "\n",
    "\n",
    "def li_log_loss(x0):\n",
    "    return log_loss(li_alloc, li_times, x0[0], x0[1])\n"
   ]
  },
  {
   "cell_type": "code",
   "execution_count": 22,
   "metadata": {},
   "outputs": [
    {
     "name": "stdout",
     "output_type": "stream",
     "text": [
      "[-2.19023599 -0.05458496] [-3.51079729 -0.00847394] [-3.03930154 -0.00943406]\n"
     ]
    }
   ],
   "source": [
    "import scipy.optimize as sc\n",
    "res_heart = sc.minimize(hr_log_loss, [-2, 0])\n",
    "res_lungs  = sc.minimize(lu_log_loss, [-2, 0])\n",
    "res_livers = sc.minimize(li_log_loss, [-2, 0])\n",
    "\n",
    "print(res_heart.x, res_lungs.x, res_livers.x)"
   ]
  },
  {
   "cell_type": "code",
   "execution_count": 23,
   "metadata": {},
   "outputs": [
    {
     "data": {
      "text/html": [
       "<div>\n",
       "<style scoped>\n",
       "    .dataframe tbody tr th:only-of-type {\n",
       "        vertical-align: middle;\n",
       "    }\n",
       "\n",
       "    .dataframe tbody tr th {\n",
       "        vertical-align: top;\n",
       "    }\n",
       "\n",
       "    .dataframe thead th {\n",
       "        text-align: right;\n",
       "    }\n",
       "</style>\n",
       "<table border=\"1\" class=\"dataframe\">\n",
       "  <thead>\n",
       "    <tr style=\"text-align: right;\">\n",
       "      <th></th>\n",
       "      <th>donor_index</th>\n",
       "      <th>time_index</th>\n",
       "      <th>cross_clamp</th>\n",
       "      <th>HR_available</th>\n",
       "      <th>LU_available</th>\n",
       "      <th>LI_available</th>\n",
       "      <th>HR_allocated</th>\n",
       "      <th>LU_allocated</th>\n",
       "      <th>LI_allocated</th>\n",
       "      <th>category</th>\n",
       "      <th>total_available</th>\n",
       "      <th>total_allocated</th>\n",
       "      <th>male</th>\n",
       "      <th>age</th>\n",
       "      <th>abo_o</th>\n",
       "      <th>kdpi</th>\n",
       "      <th>pf_ratio</th>\n",
       "      <th>donor_id</th>\n",
       "      <th>time_in_minutes</th>\n",
       "      <th>allocated_organs</th>\n",
       "      <th>available_organs</th>\n",
       "    </tr>\n",
       "  </thead>\n",
       "  <tbody>\n",
       "  </tbody>\n",
       "</table>\n",
       "</div>"
      ],
      "text/plain": [
       "Empty DataFrame\n",
       "Columns: [donor_index, time_index, cross_clamp, HR_available, LU_available, LI_available, HR_allocated, LU_allocated, LI_allocated, category, total_available, total_allocated, male, age, abo_o, kdpi, pf_ratio, donor_id, time_in_minutes, allocated_organs, available_organs]\n",
       "Index: []"
      ]
     },
     "execution_count": 23,
     "metadata": {},
     "output_type": "execute_result"
    }
   ],
   "source": [
    "lungs_yi = yi_data.loc[yi_data.LU_available == 1, :]\n",
    "lungs_yi.head()"
   ]
  },
  {
   "cell_type": "code",
   "execution_count": null,
   "metadata": {},
   "outputs": [],
   "source": []
  }
 ],
 "metadata": {
  "kernelspec": {
   "display_name": "Python 3",
   "language": "python",
   "name": "python3"
  },
  "language_info": {
   "codemirror_mode": {
    "name": "ipython",
    "version": 3
   },
   "file_extension": ".py",
   "mimetype": "text/x-python",
   "name": "python",
   "nbconvert_exporter": "python",
   "pygments_lexer": "ipython3",
   "version": "3.7.4"
  }
 },
 "nbformat": 4,
 "nbformat_minor": 2
}
