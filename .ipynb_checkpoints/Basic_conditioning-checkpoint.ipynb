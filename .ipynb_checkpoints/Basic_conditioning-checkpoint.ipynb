{
 "cells": [
  {
   "cell_type": "code",
   "execution_count": 11,
   "metadata": {},
   "outputs": [],
   "source": [
    "import pandas as pd\n",
    "import numpy as np\n",
    "import numpy.core.defchararray as npd\n",
    "pd.set_option('display.max_column',None)\n",
    "pd.set_option('display.max_rows',None)\n",
    "pd.set_option('display.max_colwidth',1000000)"
   ]
  },
  {
   "cell_type": "code",
   "execution_count": 12,
   "metadata": {},
   "outputs": [],
   "source": [
    "yi_data = pd.read_csv(\"/Users/johnwang/OneLegacy/One_Legacy/est_data_1h_v3.csv\", low_memory = False)\n"
   ]
  },
  {
   "cell_type": "code",
   "execution_count": 13,
   "metadata": {},
   "outputs": [
    {
     "data": {
      "text/html": [
       "<div>\n",
       "<style scoped>\n",
       "    .dataframe tbody tr th:only-of-type {\n",
       "        vertical-align: middle;\n",
       "    }\n",
       "\n",
       "    .dataframe tbody tr th {\n",
       "        vertical-align: top;\n",
       "    }\n",
       "\n",
       "    .dataframe thead th {\n",
       "        text-align: right;\n",
       "    }\n",
       "</style>\n",
       "<table border=\"1\" class=\"dataframe\">\n",
       "  <thead>\n",
       "    <tr style=\"text-align: right;\">\n",
       "      <th></th>\n",
       "      <th>Unnamed: 0</th>\n",
       "      <th>donor_index</th>\n",
       "      <th>time_index</th>\n",
       "      <th>cross_clamp</th>\n",
       "      <th>HR_available</th>\n",
       "      <th>LU_available</th>\n",
       "      <th>LI_available</th>\n",
       "      <th>HR_allocated</th>\n",
       "      <th>LU_allocated</th>\n",
       "      <th>LI_allocated</th>\n",
       "      <th>category</th>\n",
       "      <th>total_available</th>\n",
       "      <th>total_allocated</th>\n",
       "      <th>male</th>\n",
       "      <th>age</th>\n",
       "      <th>abo_o</th>\n",
       "      <th>kdpi</th>\n",
       "      <th>pf_ratio</th>\n",
       "      <th>donor_id</th>\n",
       "      <th>time_in_minutes</th>\n",
       "      <th>allocated_organs</th>\n",
       "      <th>available_organs</th>\n",
       "      <th>HR_allocated_now</th>\n",
       "      <th>LU_allocated_now</th>\n",
       "      <th>LI_allocated_now</th>\n",
       "    </tr>\n",
       "  </thead>\n",
       "  <tbody>\n",
       "    <tr>\n",
       "      <td>0</td>\n",
       "      <td>0</td>\n",
       "      <td>1</td>\n",
       "      <td>1</td>\n",
       "      <td>0</td>\n",
       "      <td>1</td>\n",
       "      <td>2</td>\n",
       "      <td>1</td>\n",
       "      <td>0</td>\n",
       "      <td>0</td>\n",
       "      <td>0</td>\n",
       "      <td>1</td>\n",
       "      <td>4</td>\n",
       "      <td>0</td>\n",
       "      <td>0</td>\n",
       "      <td>44.5</td>\n",
       "      <td>1</td>\n",
       "      <td>25</td>\n",
       "      <td>560</td>\n",
       "      <td>AGC1095</td>\n",
       "      <td>0</td>\n",
       "      <td>set()</td>\n",
       "      <td>['HL' 'IN' 'LI' 'LU']</td>\n",
       "      <td>0</td>\n",
       "      <td>0</td>\n",
       "      <td>0</td>\n",
       "    </tr>\n",
       "    <tr>\n",
       "      <td>1</td>\n",
       "      <td>1</td>\n",
       "      <td>1</td>\n",
       "      <td>2</td>\n",
       "      <td>0</td>\n",
       "      <td>1</td>\n",
       "      <td>2</td>\n",
       "      <td>1</td>\n",
       "      <td>0</td>\n",
       "      <td>0</td>\n",
       "      <td>0</td>\n",
       "      <td>1</td>\n",
       "      <td>4</td>\n",
       "      <td>0</td>\n",
       "      <td>0</td>\n",
       "      <td>44.5</td>\n",
       "      <td>1</td>\n",
       "      <td>25</td>\n",
       "      <td>560</td>\n",
       "      <td>AGC1095</td>\n",
       "      <td>60</td>\n",
       "      <td>set()</td>\n",
       "      <td>['HL' 'IN' 'LI' 'LU']</td>\n",
       "      <td>0</td>\n",
       "      <td>0</td>\n",
       "      <td>0</td>\n",
       "    </tr>\n",
       "    <tr>\n",
       "      <td>2</td>\n",
       "      <td>2</td>\n",
       "      <td>1</td>\n",
       "      <td>3</td>\n",
       "      <td>0</td>\n",
       "      <td>1</td>\n",
       "      <td>2</td>\n",
       "      <td>1</td>\n",
       "      <td>0</td>\n",
       "      <td>0</td>\n",
       "      <td>0</td>\n",
       "      <td>1</td>\n",
       "      <td>4</td>\n",
       "      <td>0</td>\n",
       "      <td>0</td>\n",
       "      <td>44.5</td>\n",
       "      <td>1</td>\n",
       "      <td>25</td>\n",
       "      <td>560</td>\n",
       "      <td>AGC1095</td>\n",
       "      <td>120</td>\n",
       "      <td>set()</td>\n",
       "      <td>['HL' 'IN' 'LI' 'LU']</td>\n",
       "      <td>0</td>\n",
       "      <td>0</td>\n",
       "      <td>0</td>\n",
       "    </tr>\n",
       "    <tr>\n",
       "      <td>3</td>\n",
       "      <td>3</td>\n",
       "      <td>1</td>\n",
       "      <td>4</td>\n",
       "      <td>0</td>\n",
       "      <td>1</td>\n",
       "      <td>2</td>\n",
       "      <td>1</td>\n",
       "      <td>0</td>\n",
       "      <td>0</td>\n",
       "      <td>0</td>\n",
       "      <td>1</td>\n",
       "      <td>4</td>\n",
       "      <td>0</td>\n",
       "      <td>0</td>\n",
       "      <td>44.5</td>\n",
       "      <td>1</td>\n",
       "      <td>25</td>\n",
       "      <td>560</td>\n",
       "      <td>AGC1095</td>\n",
       "      <td>180</td>\n",
       "      <td>set()</td>\n",
       "      <td>['HL' 'IN' 'LI' 'LU']</td>\n",
       "      <td>0</td>\n",
       "      <td>0</td>\n",
       "      <td>0</td>\n",
       "    </tr>\n",
       "    <tr>\n",
       "      <td>4</td>\n",
       "      <td>4</td>\n",
       "      <td>1</td>\n",
       "      <td>5</td>\n",
       "      <td>0</td>\n",
       "      <td>1</td>\n",
       "      <td>2</td>\n",
       "      <td>1</td>\n",
       "      <td>0</td>\n",
       "      <td>0</td>\n",
       "      <td>0</td>\n",
       "      <td>1</td>\n",
       "      <td>4</td>\n",
       "      <td>0</td>\n",
       "      <td>0</td>\n",
       "      <td>44.5</td>\n",
       "      <td>1</td>\n",
       "      <td>25</td>\n",
       "      <td>560</td>\n",
       "      <td>AGC1095</td>\n",
       "      <td>240</td>\n",
       "      <td>set()</td>\n",
       "      <td>['HL' 'IN' 'LI' 'LU']</td>\n",
       "      <td>0</td>\n",
       "      <td>0</td>\n",
       "      <td>0</td>\n",
       "    </tr>\n",
       "  </tbody>\n",
       "</table>\n",
       "</div>"
      ],
      "text/plain": [
       "   Unnamed: 0  donor_index  time_index  cross_clamp  HR_available  \\\n",
       "0           0            1           1            0             1   \n",
       "1           1            1           2            0             1   \n",
       "2           2            1           3            0             1   \n",
       "3           3            1           4            0             1   \n",
       "4           4            1           5            0             1   \n",
       "\n",
       "   LU_available  LI_available  HR_allocated  LU_allocated  LI_allocated  \\\n",
       "0             2             1             0             0             0   \n",
       "1             2             1             0             0             0   \n",
       "2             2             1             0             0             0   \n",
       "3             2             1             0             0             0   \n",
       "4             2             1             0             0             0   \n",
       "\n",
       "   category  total_available  total_allocated  male   age  abo_o  kdpi  \\\n",
       "0         1                4                0     0  44.5      1    25   \n",
       "1         1                4                0     0  44.5      1    25   \n",
       "2         1                4                0     0  44.5      1    25   \n",
       "3         1                4                0     0  44.5      1    25   \n",
       "4         1                4                0     0  44.5      1    25   \n",
       "\n",
       "   pf_ratio donor_id  time_in_minutes allocated_organs       available_organs  \\\n",
       "0       560  AGC1095                0            set()  ['HL' 'IN' 'LI' 'LU']   \n",
       "1       560  AGC1095               60            set()  ['HL' 'IN' 'LI' 'LU']   \n",
       "2       560  AGC1095              120            set()  ['HL' 'IN' 'LI' 'LU']   \n",
       "3       560  AGC1095              180            set()  ['HL' 'IN' 'LI' 'LU']   \n",
       "4       560  AGC1095              240            set()  ['HL' 'IN' 'LI' 'LU']   \n",
       "\n",
       "   HR_allocated_now  LU_allocated_now  LI_allocated_now  \n",
       "0                 0                 0                 0  \n",
       "1                 0                 0                 0  \n",
       "2                 0                 0                 0  \n",
       "3                 0                 0                 0  \n",
       "4                 0                 0                 0  "
      ]
     },
     "execution_count": 13,
     "metadata": {},
     "output_type": "execute_result"
    }
   ],
   "source": [
    "yi_data.head()"
   ]
  },
  {
   "cell_type": "code",
   "execution_count": 14,
   "metadata": {},
   "outputs": [],
   "source": [
    "Liver_avail = yi_data.loc[(yi_data.LI_available == 1) & (yi_data.LI_allocated == 0), :]"
   ]
  },
  {
   "cell_type": "code",
   "execution_count": 20,
   "metadata": {},
   "outputs": [],
   "source": [
    "test = yi_data[[\"donor_index\", \"LI_allocated\"]]"
   ]
  },
  {
   "cell_type": "code",
   "execution_count": 21,
   "metadata": {},
   "outputs": [],
   "source": [
    "test = test.drop_duplicates()"
   ]
  },
  {
   "cell_type": "code",
   "execution_count": null,
   "metadata": {},
   "outputs": [],
   "source": []
  },
  {
   "cell_type": "code",
   "execution_count": 16,
   "metadata": {},
   "outputs": [
    {
     "data": {
      "text/plain": [
       "174"
      ]
     },
     "execution_count": 16,
     "metadata": {},
     "output_type": "execute_result"
    }
   ],
   "source": [
    "Liver_avail.loc[,\"LI_allocated_now\"].sum()"
   ]
  },
  {
   "cell_type": "code",
   "execution_count": 17,
   "metadata": {},
   "outputs": [
    {
     "data": {
      "text/plain": [
       "Unnamed: 0          4163\n",
       "donor_index         4163\n",
       "time_index          4163\n",
       "cross_clamp         4163\n",
       "HR_available        4163\n",
       "LU_available        4163\n",
       "LI_available        4163\n",
       "HR_allocated        4163\n",
       "LU_allocated        4163\n",
       "LI_allocated        4163\n",
       "category            4163\n",
       "total_available     4163\n",
       "total_allocated     4163\n",
       "male                4163\n",
       "age                 4163\n",
       "abo_o               4163\n",
       "kdpi                4163\n",
       "pf_ratio            4163\n",
       "donor_id            4163\n",
       "time_in_minutes     4163\n",
       "allocated_organs    4163\n",
       "available_organs    4163\n",
       "HR_allocated_now    4163\n",
       "LU_allocated_now    4163\n",
       "LI_allocated_now    4163\n",
       "dtype: int64"
      ]
     },
     "execution_count": 17,
     "metadata": {},
     "output_type": "execute_result"
    }
   ],
   "source": [
    "Liver_avail.count()"
   ]
  },
  {
   "cell_type": "code",
   "execution_count": 18,
   "metadata": {},
   "outputs": [
    {
     "data": {
      "text/plain": [
       "0.041796781167427334"
      ]
     },
     "execution_count": 18,
     "metadata": {},
     "output_type": "execute_result"
    }
   ],
   "source": [
    "174/4163"
   ]
  },
  {
   "cell_type": "code",
   "execution_count": null,
   "metadata": {},
   "outputs": [],
   "source": []
  }
 ],
 "metadata": {
  "kernelspec": {
   "display_name": "Python 3",
   "language": "python",
   "name": "python3"
  },
  "language_info": {
   "codemirror_mode": {
    "name": "ipython",
    "version": 3
   },
   "file_extension": ".py",
   "mimetype": "text/x-python",
   "name": "python",
   "nbconvert_exporter": "python",
   "pygments_lexer": "ipython3",
   "version": "3.7.4"
  }
 },
 "nbformat": 4,
 "nbformat_minor": 2
}
