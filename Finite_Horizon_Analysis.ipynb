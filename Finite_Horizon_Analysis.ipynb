{
 "cells": [
  {
   "cell_type": "code",
   "execution_count": 1,
   "metadata": {},
   "outputs": [],
   "source": [
    "import pandas as pd\n",
    "import numpy as np\n",
    "import numpy.core.defchararray as npd\n",
    "pd.set_option('display.max_column',None)\n",
    "pd.set_option('display.max_rows',None)\n",
    "pd.set_option('display.max_colwidth',1000000)\n",
    "\n",
    "organ_offers = pd.read_csv(\"/Users/johnwang/OneLegacy/data/data-csv/organoffers.csv\", low_memory = False)"
   ]
  },
  {
   "cell_type": "code",
   "execution_count": 145,
   "metadata": {},
   "outputs": [],
   "source": [
    "import matplotlib.pyplot as plt"
   ]
  },
  {
   "cell_type": "code",
   "execution_count": 124,
   "metadata": {},
   "outputs": [],
   "source": [
    "not_k = organ_offers[organ_offers.match_organ != \"KI\"]\n",
    "not_k = not_k[not_k.match_organ != \"KP\"]\n",
    "start = not_k.loc[:, [\"donor_id\", \"datetime_match_run\", \"match_organ\"]]\n",
    "\n",
    "test1 = start.groupby(\"donor_id\").agg(\"min\")\n",
    "\n",
    "data = not_k.merge(test1, how = \"left\", on = \"donor_id\")"
   ]
  },
  {
   "cell_type": "code",
   "execution_count": 118,
   "metadata": {},
   "outputs": [],
   "source": [
    "data = data.loc[(data.offer_accepted == \"Y\") & (data.datetime_refusal_entered < data.donor_cross_clamp_datetime), :]"
   ]
  },
  {
   "cell_type": "code",
   "execution_count": 119,
   "metadata": {},
   "outputs": [
    {
     "data": {
      "text/plain": [
       "Unnamed: 0                                      308\n",
       "donor_id                                        308\n",
       "match_organ                                     308\n",
       "match_id                                        308\n",
       "sequence_number_on_match_run                    308\n",
       "offer_accept_sequence_number                    308\n",
       "donor_dcd                                       308\n",
       "donor_age_in_months                             308\n",
       "donor_age_in_years                              308\n",
       "donor_increased_risk_status                     308\n",
       "donor_abo                                       308\n",
       "donor_gender                                    308\n",
       "donor_hcv_status                                308\n",
       "donor_height_in_cm                              308\n",
       "donor_weight_in_kg                              308\n",
       "donor_kdpi                                      308\n",
       "donor_match_kdpi                                  0\n",
       "donor_pf_ratio                                  308\n",
       "donor_pf_ratio_group                            308\n",
       "donor_cross_clamp_datetime                      308\n",
       "donor_cross_clamp_timezone                      308\n",
       "donor_cross_clamp_timezone_text                 308\n",
       "donor_cross_clamp_daylight_savings_applied      308\n",
       "donor_hist_iv_druguse                           308\n",
       "donor_alcohol_heavy                             308\n",
       "donor_creatinine                                308\n",
       "donor_anti_hbc                                  308\n",
       "donor_anti_hcv                                  308\n",
       "donor_hbsag                                     308\n",
       "donor_hcv_nat                                   308\n",
       "donor_hbv_nat                                   308\n",
       "donor_hiv                                       308\n",
       "donor_hiv_antigen                               304\n",
       "donor_hiv_nat                                   308\n",
       "donor_li_biopsy                                 304\n",
       "donor_lt_ki_biopsy                              302\n",
       "donor_lt_ki_glomerul                            102\n",
       "donor_lt_ki_pump                                298\n",
       "donor_macro_fat                                 102\n",
       "donor_micro_fat                                  95\n",
       "donor_rt_ki_biopsy                              304\n",
       "donor_rt_ki_glomerul                            107\n",
       "donor_rt_ki_pump                                297\n",
       "candidate_wl_id                                 308\n",
       "candidate_wlreg_audit_id                        308\n",
       "candidate_px_id                                 308\n",
       "candidate_name                                  308\n",
       "candidate_waiting_list_organ                    308\n",
       "candidate_requested_organs                      308\n",
       "candidate_gender                                308\n",
       "candidate_age_in_months                         308\n",
       "candidate_age_in_years                          308\n",
       "candidate_height                                308\n",
       "candidate_weight                                308\n",
       "candidate_abo                                   308\n",
       "candidate_unacceptable_antigens                  33\n",
       "candidate_cpra                                  308\n",
       "candidate_epts                                    0\n",
       "candidate_las                                    83\n",
       "candidate_meld                                  120\n",
       "candidate_preliminary_xmatch_req                308\n",
       "candidate_status_code                           308\n",
       "candidate_status_text                           308\n",
       "datetime_match_run_x                            308\n",
       "date_of_match_run                               308\n",
       "classification_on_match_run                     308\n",
       "match_opo                                       308\n",
       "recovery_opo                                    308\n",
       "listing_center                                  308\n",
       "notification_datetime                           293\n",
       "center_of_person_notified                       289\n",
       "initial_responder_name                          308\n",
       "center_contact_name                             308\n",
       "person_notified                                 308\n",
       "acknowlegement_datetime                         185\n",
       "offer_evaluation_datetime                       293\n",
       "person_evaluating_offer                         293\n",
       "initial_response_datetime                       308\n",
       "datetime_refusal_entered                        308\n",
       "date_of_response                                308\n",
       "primary_refusal_reason_code                       0\n",
       "primary_refusal_reason_text                       0\n",
       "specify_of_primary_refusal_reason                 0\n",
       "secondary_refusal_reason_code                     0\n",
       "secondary_refusal_reason_text                     0\n",
       "specify_of_secondary_refusal_reason               0\n",
       "person_entering_most_recent_offer_response      308\n",
       "datetime_ptr_completed                          306\n",
       "initial_response                                308\n",
       "offer_accepted                                  308\n",
       "organ_available                                 308\n",
       "organ_accepted                                  308\n",
       "organ_accepted_description                      308\n",
       "distance                                        308\n",
       "candidate_location_donor                        308\n",
       "organ_transplanted_at_center                    299\n",
       "match_opo_ctr_cd                                308\n",
       "match_opo_ctr_ty                                308\n",
       "listing_ctr_cd                                  308\n",
       "listing_ctr_ty                                  308\n",
       "recipient_one_organ                             299\n",
       "recipient_one_procedure                         299\n",
       "recipient_one_procedure_text                    299\n",
       "recipient_one_graft_status                      256\n",
       "recipient_one_graft_failure_date                  3\n",
       "recipient_one_patient_status                    273\n",
       "recipient_one_patient_status_date               266\n",
       "recipient_one_death_date                         10\n",
       "recipient_one_cod                                 8\n",
       "recipient_one_region                            299\n",
       "transplant_one_same_center                      299\n",
       "recipient_one_age                               299\n",
       "recipient_one_gender                            299\n",
       "recipient_one_race                              299\n",
       "recipient_one_status_at_transplant              299\n",
       "recipient_one_ischemic_time                     257\n",
       "recipient_one_formatted_status_at_transplant    299\n",
       "recipient_one_meld                              119\n",
       "recipient_one_kidney_dgf                          0\n",
       "recipient_one_multiorg                           31\n",
       "recipient_two_organ                              14\n",
       "recipient_two_procedure                          14\n",
       "recipient_two_procedure_text                     14\n",
       "recipient_two_graft_status                       11\n",
       "recipient_two_graft_failure_date                  0\n",
       "recipient_two_patient_status                     12\n",
       "recipient_two_patient_status_date                12\n",
       "recipient_two_death_date                          0\n",
       "recipient_two_cod                                 0\n",
       "recipient_two_region                             14\n",
       "transplant_two_same_center                       14\n",
       "recipient_two_age                                14\n",
       "recipient_two_gender                             14\n",
       "recipient_two_race                               14\n",
       "recipient_two_status_at_transplant               14\n",
       "recipient_two_ischemic_time                      11\n",
       "recipient_two_formatted_status_at_transplant     14\n",
       "recipient_two_meld                                4\n",
       "recipient_two_kidney_dgf                          0\n",
       "recipient_two_multiorg                            0\n",
       "datetime_match_run_y                            308\n",
       "dtype: int64"
      ]
     },
     "execution_count": 119,
     "metadata": {},
     "output_type": "execute_result"
    }
   ],
   "source": [
    "data.count()"
   ]
  },
  {
   "cell_type": "code",
   "execution_count": 6,
   "metadata": {},
   "outputs": [
    {
     "data": {
      "text/plain": [
       "738"
      ]
     },
     "execution_count": 6,
     "metadata": {},
     "output_type": "execute_result"
    }
   ],
   "source": [
    "organ_offers.loc[accept_inds, :].match_id.nunique()"
   ]
  },
  {
   "cell_type": "code",
   "execution_count": 130,
   "metadata": {},
   "outputs": [],
   "source": [
    "\n",
    "test2 = start.groupby(\"donor_id\").agg(\"max\")"
   ]
  },
  {
   "cell_type": "code",
   "execution_count": 131,
   "metadata": {},
   "outputs": [],
   "source": [
    "test3 = test1.merge(test2, how = \"left\", on = \"donor_id\")\n",
    "test3 = test3[test3.datetime_match_run_y>test3.datetime_match_run_x]\n",
    "# test3 = test3.loc[~((test3.match_organ_y == \"LU\")), :]"
   ]
  },
  {
   "cell_type": "code",
   "execution_count": 132,
   "metadata": {},
   "outputs": [],
   "source": [
    "test3[\"diff\"] = (pd.to_datetime(test3[\"datetime_match_run_y\"]) - pd.to_datetime(test3[\"datetime_match_run_x\"])).dt.total_seconds()"
   ]
  },
  {
   "cell_type": "code",
   "execution_count": 133,
   "metadata": {},
   "outputs": [
    {
     "data": {
      "text/plain": [
       "80457.84864864865"
      ]
     },
     "execution_count": 133,
     "metadata": {},
     "output_type": "execute_result"
    }
   ],
   "source": [
    "test3[\"diff\"].mean()"
   ]
  },
  {
   "cell_type": "code",
   "execution_count": 134,
   "metadata": {},
   "outputs": [
    {
     "data": {
      "text/plain": [
       "HL    101\n",
       "IN     50\n",
       "HR     30\n",
       "LI      4\n",
       "Name: match_organ_x, dtype: int64"
      ]
     },
     "execution_count": 134,
     "metadata": {},
     "output_type": "execute_result"
    }
   ],
   "source": [
    "test3.match_organ_x.value_counts()"
   ]
  },
  {
   "cell_type": "code",
   "execution_count": 135,
   "metadata": {},
   "outputs": [
    {
     "data": {
      "text/plain": [
       "LU    125\n",
       "LI     60\n",
       "Name: match_organ_y, dtype: int64"
      ]
     },
     "execution_count": 135,
     "metadata": {},
     "output_type": "execute_result"
    }
   ],
   "source": [
    "test3.match_organ_y.value_counts()"
   ]
  },
  {
   "cell_type": "code",
   "execution_count": 146,
   "metadata": {},
   "outputs": [
    {
     "data": {
      "text/plain": [
       "(array([21., 11.,  4., 12.,  4.,  2.,  5.,  0.,  0.,  1.]),\n",
       " array([9.200000e+01, 1.970830e+04, 3.932460e+04, 5.894090e+04,\n",
       "        7.855720e+04, 9.817350e+04, 1.177898e+05, 1.374061e+05,\n",
       "        1.570224e+05, 1.766387e+05, 1.962550e+05]),\n",
       " <a list of 10 Patch objects>)"
      ]
     },
     "execution_count": 146,
     "metadata": {},
     "output_type": "execute_result"
    },
    {
     "data": {
      "image/png": "[encoded data removed]",
      "text/plain": [
       "<Figure size 432x288 with 1 Axes>"
      ]
     },
     "metadata": {
      "needs_background": "light"
     },
     "output_type": "display_data"
    }
   ],
   "source": [
    "plt.hist(test3.loc[test3.match_organ_y == \"LI\", \"diff\"])"
   ]
  },
  {
   "cell_type": "code",
   "execution_count": 147,
   "metadata": {},
   "outputs": [
    {
     "data": {
      "text/plain": [
       "(array([19., 10., 23., 23., 16., 13., 11.,  2.,  3.,  5.]),\n",
       " array([1.10000e+01, 2.59920e+04, 5.19730e+04, 7.79540e+04, 1.03935e+05,\n",
       "        1.29916e+05, 1.55897e+05, 1.81878e+05, 2.07859e+05, 2.33840e+05,\n",
       "        2.59821e+05]),\n",
       " <a list of 10 Patch objects>)"
      ]
     },
     "execution_count": 147,
     "metadata": {},
     "output_type": "execute_result"
    },
    {
     "data": {
      "image/png": "[encoded data removed]",
      "text/plain": [
       "<Figure size 432x288 with 1 Axes>"
      ]
     },
     "metadata": {
      "needs_background": "light"
     },
     "output_type": "display_data"
    }
   ],
   "source": [
    "plt.hist(test3.loc[test3.match_organ_y == \"LU\", \"diff\"])"
   ]
  },
  {
   "cell_type": "code",
   "execution_count": 115,
   "metadata": {},
   "outputs": [
    {
     "data": {
      "text/plain": [
       "565"
      ]
     },
     "execution_count": 115,
     "metadata": {},
     "output_type": "execute_result"
    }
   ],
   "source": [
    "organ_offers.donor_id.nunique()"
   ]
  },
  {
   "cell_type": "code",
   "execution_count": 27,
   "metadata": {},
   "outputs": [],
   "source": [
    "start = not_k.loc[:, [\"donor_id\", \"datetime_match_run\", \"match_organ\"]]\n",
    "start = start.drop_duplicates()"
   ]
  },
  {
   "cell_type": "code",
   "execution_count": 28,
   "metadata": {},
   "outputs": [],
   "source": [
    "t1 = start.merge(start, how = \"left\", on = \"donor_id\")"
   ]
  },
  {
   "cell_type": "code",
   "execution_count": 31,
   "metadata": {},
   "outputs": [
    {
     "data": {
      "text/html": [
       "<div>\n",
       "<style scoped>\n",
       "    .dataframe tbody tr th:only-of-type {\n",
       "        vertical-align: middle;\n",
       "    }\n",
       "\n",
       "    .dataframe tbody tr th {\n",
       "        vertical-align: top;\n",
       "    }\n",
       "\n",
       "    .dataframe thead th {\n",
       "        text-align: right;\n",
       "    }\n",
       "</style>\n",
       "<table border=\"1\" class=\"dataframe\">\n",
       "  <thead>\n",
       "    <tr style=\"text-align: right;\">\n",
       "      <th></th>\n",
       "      <th>donor_id</th>\n",
       "      <th>datetime_match_run</th>\n",
       "      <th>match_organ</th>\n",
       "    </tr>\n",
       "  </thead>\n",
       "  <tbody>\n",
       "    <tr>\n",
       "      <td>0</td>\n",
       "      <td>AGIC169</td>\n",
       "      <td>2019-09-04 23:24:25</td>\n",
       "      <td>IN</td>\n",
       "    </tr>\n",
       "    <tr>\n",
       "      <td>94</td>\n",
       "      <td>AGIC169</td>\n",
       "      <td>2019-09-04 23:24:25</td>\n",
       "      <td>LI</td>\n",
       "    </tr>\n",
       "    <tr>\n",
       "      <td>5993</td>\n",
       "      <td>AGIC211</td>\n",
       "      <td>2019-09-04 15:09:47</td>\n",
       "      <td>LI</td>\n",
       "    </tr>\n",
       "    <tr>\n",
       "      <td>6210</td>\n",
       "      <td>AGC1095</td>\n",
       "      <td>2019-03-29 21:45:17</td>\n",
       "      <td>HL</td>\n",
       "    </tr>\n",
       "    <tr>\n",
       "      <td>6232</td>\n",
       "      <td>AGC1095</td>\n",
       "      <td>2019-03-29 04:41:14</td>\n",
       "      <td>IN</td>\n",
       "    </tr>\n",
       "  </tbody>\n",
       "</table>\n",
       "</div>"
      ],
      "text/plain": [
       "     donor_id   datetime_match_run match_organ\n",
       "0     AGIC169  2019-09-04 23:24:25          IN\n",
       "94    AGIC169  2019-09-04 23:24:25          LI\n",
       "5993  AGIC211  2019-09-04 15:09:47          LI\n",
       "6210  AGC1095  2019-03-29 21:45:17          HL\n",
       "6232  AGC1095  2019-03-29 04:41:14          IN"
      ]
     },
     "execution_count": 31,
     "metadata": {},
     "output_type": "execute_result"
    }
   ],
   "source": [
    "start.head()"
   ]
  },
  {
   "cell_type": "code",
   "execution_count": 33,
   "metadata": {},
   "outputs": [],
   "source": [
    "t2 = t1.loc[t1.datetime_match_run_x< t1.datetime_match_run_y, :]"
   ]
  },
  {
   "cell_type": "code",
   "execution_count": 34,
   "metadata": {},
   "outputs": [
    {
     "data": {
      "text/plain": [
       "donor_id                660\n",
       "datetime_match_run_x    660\n",
       "match_organ_x           660\n",
       "datetime_match_run_y    660\n",
       "match_organ_y           660\n",
       "dtype: int64"
      ]
     },
     "execution_count": 34,
     "metadata": {},
     "output_type": "execute_result"
    }
   ],
   "source": [
    "t2.count()"
   ]
  },
  {
   "cell_type": "code",
   "execution_count": 37,
   "metadata": {},
   "outputs": [
    {
     "data": {
      "text/plain": [
       "IN    442\n",
       "LU     93\n",
       "HL     87\n",
       "LI     25\n",
       "HR     13\n",
       "Name: match_organ_x, dtype: int64"
      ]
     },
     "execution_count": 37,
     "metadata": {},
     "output_type": "execute_result"
    }
   ],
   "source": [
    "t2.match_organ_x.value_counts()"
   ]
  },
  {
   "cell_type": "code",
   "execution_count": 58,
   "metadata": {},
   "outputs": [
    {
     "name": "stderr",
     "output_type": "stream",
     "text": [
      "/opt/anaconda3/lib/python3.7/site-packages/ipykernel_launcher.py:1: SettingWithCopyWarning: \n",
      "A value is trying to be set on a copy of a slice from a DataFrame.\n",
      "Try using .loc[row_indexer,col_indexer] = value instead\n",
      "\n",
      "See the caveats in the documentation: http://pandas.pydata.org/pandas-docs/stable/user_guide/indexing.html#returning-a-view-versus-a-copy\n",
      "  \"\"\"Entry point for launching an IPython kernel.\n"
     ]
    }
   ],
   "source": [
    "t2[\"diff\"] = (pd.to_datetime(t2[\"datetime_match_run_y\"]) - pd.to_datetime(t2[\"datetime_match_run_x\"])).dt.total_seconds()"
   ]
  },
  {
   "cell_type": "code",
   "execution_count": 59,
   "metadata": {},
   "outputs": [
    {
     "data": {
      "text/html": [
       "<div>\n",
       "<style scoped>\n",
       "    .dataframe tbody tr th:only-of-type {\n",
       "        vertical-align: middle;\n",
       "    }\n",
       "\n",
       "    .dataframe tbody tr th {\n",
       "        vertical-align: top;\n",
       "    }\n",
       "\n",
       "    .dataframe thead th {\n",
       "        text-align: right;\n",
       "    }\n",
       "</style>\n",
       "<table border=\"1\" class=\"dataframe\">\n",
       "  <thead>\n",
       "    <tr style=\"text-align: right;\">\n",
       "      <th></th>\n",
       "      <th>donor_id</th>\n",
       "      <th>datetime_match_run_x</th>\n",
       "      <th>match_organ_x</th>\n",
       "      <th>datetime_match_run_y</th>\n",
       "      <th>match_organ_y</th>\n",
       "      <th>diff</th>\n",
       "    </tr>\n",
       "  </thead>\n",
       "  <tbody>\n",
       "    <tr>\n",
       "      <td>7</td>\n",
       "      <td>AGC1095</td>\n",
       "      <td>2019-03-29 21:45:17</td>\n",
       "      <td>HL</td>\n",
       "      <td>2019-03-30 04:16:06</td>\n",
       "      <td>LI</td>\n",
       "      <td>23449.0</td>\n",
       "    </tr>\n",
       "    <tr>\n",
       "      <td>9</td>\n",
       "      <td>AGC1095</td>\n",
       "      <td>2019-03-29 04:41:14</td>\n",
       "      <td>IN</td>\n",
       "      <td>2019-03-29 21:45:17</td>\n",
       "      <td>HL</td>\n",
       "      <td>61443.0</td>\n",
       "    </tr>\n",
       "    <tr>\n",
       "      <td>11</td>\n",
       "      <td>AGC1095</td>\n",
       "      <td>2019-03-29 04:41:14</td>\n",
       "      <td>IN</td>\n",
       "      <td>2019-03-30 04:16:06</td>\n",
       "      <td>LI</td>\n",
       "      <td>84892.0</td>\n",
       "    </tr>\n",
       "    <tr>\n",
       "      <td>12</td>\n",
       "      <td>AGC1095</td>\n",
       "      <td>2019-03-29 04:41:14</td>\n",
       "      <td>IN</td>\n",
       "      <td>2019-03-29 21:45:17</td>\n",
       "      <td>LU</td>\n",
       "      <td>61443.0</td>\n",
       "    </tr>\n",
       "    <tr>\n",
       "      <td>19</td>\n",
       "      <td>AGC1095</td>\n",
       "      <td>2019-03-29 21:45:17</td>\n",
       "      <td>LU</td>\n",
       "      <td>2019-03-30 04:16:06</td>\n",
       "      <td>LI</td>\n",
       "      <td>23449.0</td>\n",
       "    </tr>\n",
       "  </tbody>\n",
       "</table>\n",
       "</div>"
      ],
      "text/plain": [
       "   donor_id datetime_match_run_x match_organ_x datetime_match_run_y  \\\n",
       "7   AGC1095  2019-03-29 21:45:17            HL  2019-03-30 04:16:06   \n",
       "9   AGC1095  2019-03-29 04:41:14            IN  2019-03-29 21:45:17   \n",
       "11  AGC1095  2019-03-29 04:41:14            IN  2019-03-30 04:16:06   \n",
       "12  AGC1095  2019-03-29 04:41:14            IN  2019-03-29 21:45:17   \n",
       "19  AGC1095  2019-03-29 21:45:17            LU  2019-03-30 04:16:06   \n",
       "\n",
       "   match_organ_y     diff  \n",
       "7             LI  23449.0  \n",
       "9             HL  61443.0  \n",
       "11            LI  84892.0  \n",
       "12            LU  61443.0  \n",
       "19            LI  23449.0  "
      ]
     },
     "execution_count": 59,
     "metadata": {},
     "output_type": "execute_result"
    }
   ],
   "source": [
    "t2.head()"
   ]
  },
  {
   "cell_type": "code",
   "execution_count": 64,
   "metadata": {},
   "outputs": [
    {
     "data": {
      "text/plain": [
       "66152.14393939394"
      ]
     },
     "execution_count": 64,
     "metadata": {},
     "output_type": "execute_result"
    }
   ],
   "source": [
    "t2[\"diff\"].mean()"
   ]
  },
  {
   "cell_type": "code",
   "execution_count": null,
   "metadata": {},
   "outputs": [],
   "source": []
  }
 ],
 "metadata": {
  "kernelspec": {
   "display_name": "Python 3",
   "language": "python",
   "name": "python3"
  },
  "language_info": {
   "codemirror_mode": {
    "name": "ipython",
    "version": 3
   },
   "file_extension": ".py",
   "mimetype": "text/x-python",
   "name": "python",
   "nbconvert_exporter": "python",
   "pygments_lexer": "ipython3",
   "version": "3.7.4"
  }
 },
 "nbformat": 4,
 "nbformat_minor": 2
}
